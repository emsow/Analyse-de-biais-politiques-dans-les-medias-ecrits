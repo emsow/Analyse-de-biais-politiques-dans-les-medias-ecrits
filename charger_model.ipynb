{
 "cells": [
  {
   "cell_type": "code",
   "execution_count": null,
   "metadata": {},
   "outputs": [],
   "source": [
    "import datasets\n",
    "import torch\n",
    "import pandas as pd\n",
    "from transformers import AutoTokenizer, AutoModelForSequenceClassification\n",
    "from sklearn.model_selection import train_test_split\n",
    "from transformers_interpret import SequenceClassificationExplainer"
   ]
  },
  {
   "cell_type": "code",
   "execution_count": null,
   "metadata": {},
   "outputs": [],
   "source": [
    "##-- Récuperer l'extrait de données np-elec-10k\n",
    "!wget \"https://drive.google.com/uc?export=download&id=17I64kNNUbAyqpEr7lE8eEEfXd7L0NI_r\" -O \"np-elec-10k.csv\""
   ]
  },
  {
   "cell_type": "code",
   "execution_count": null,
   "metadata": {},
   "outputs": [],
   "source": [
    "##--Importer les données dans un dataframe pandas\n",
    "\n",
    "df = pd.read_csv(\"np-elec-10k.csv\")  #dispo sur le drive\n",
    "\n",
    "##--Renommer les colonnes qu'on va utiliser\n",
    "df = df.rename(columns={ 'Allside': 'labels' })\n",
    "df = df.rename(columns={ 'highlight.maintext': 'text' })\n",
    "df = df.rename(columns={ '_source.title': 'title' })\n",
    "df = df.rename(columns={'_source.source_domain': 'source'})\n",
    "\n",
    "##--Selectionner les colonnes en question dans un nouveau dataframe\n",
    "df2 = df[['labels','source','title','text']]\n",
    "\n",
    "##--Supprimer les labels '?'\n",
    "df3 = df2[df2['labels'] != '?']\n",
    "\n",
    "##--Rennommer les labels avec des ints pour faciliter l'utilisation\n",
    "correspondance = {\"Left\" :0, \"Lean Left\" :0, \"Center\" :1, \"Lean Right\" :2, \"Right\" :2, \"Mixed\" :1}\n",
    "df3['labels'] = df3['labels'].replace(correspondance)"
   ]
  },
  {
   "cell_type": "code",
   "execution_count": null,
   "metadata": {},
   "outputs": [],
   "source": [
    " ##-- Trouver les sources uniques dans le DataFrame\n",
    "sources_uniques = df3['source'].unique()\n",
    "\n",
    "##- Diviser la liste des sources de manière aléatoire en deux ensembles\n",
    "sources_train, sources_test = train_test_split(sources_uniques, test_size=0.2, random_state=20)\n",
    "\n",
    "##-- Filtrer les données en fonction des ensembles de sources\n",
    "train_df = df3[df3['source'].isin(sources_train)]\n",
    "test_df = df3[df3['source'].isin(sources_test)]\n",
    "\n",
    "train_df2 = train_df[['labels','text']]\n",
    "test_df2 = test_df[['labels','text']]\n",
    "\n",
    "##--Separer les données dans des fichiers train et test\n",
    "train_dataset = datasets.Dataset.from_pandas(train_df2)\n",
    "test_dataset = datasets.Dataset.from_pandas(test_df2)\n",
    "\n",
    "train_dataset = train_dataset.remove_columns([\"__index_level_0__\"])\n",
    "test_dataset = test_dataset.remove_columns([\"__index_level_0__\"])\n",
    "\n",
    "##-- Exporter en csv pour verifier le ontenu des datasets\n",
    "# train.to_csv('./splitm-elec/train.csv')\n",
    "# test.to_csv('./splitm-elec/test.csv')\n",
    "\n",
    "dataset = datasets.DatasetDict({\n",
    "    'train': train_dataset,\n",
    "    'test': test_dataset\n",
    "})"
   ]
  },
  {
   "cell_type": "code",
   "execution_count": null,
   "metadata": {},
   "outputs": [],
   "source": [
    "tokenizer = AutoTokenizer.from_pretrained(\"bert-base-cased\")\n",
    "\n",
    "def tokenize_function(examples):\n",
    "    return tokenizer(examples[\"text\"], padding=\"max_length\", truncation=True)\n",
    "\n",
    "tokenized_datasets = dataset.map(tokenize_function, batched=True)\n",
    "\n",
    "small_train_dataset = tokenized_datasets[\"train\"].shuffle(seed=42).select(range(4000)) #Modifiez la range si vous voulez réduire le temps de training [0:6613]\n",
    "small_eval_dataset = tokenized_datasets[\"test\"].shuffle(seed=42).select(range(1000)) # [0:1202]"
   ]
  },
  {
   "cell_type": "markdown",
   "metadata": {},
   "source": [
    "## Charger le modèle"
   ]
  },
  {
   "cell_type": "code",
   "execution_count": null,
   "metadata": {},
   "outputs": [],
   "source": [
    "MODEL_SAVE_PATH = \"\"\n",
    "model = AutoModelForSequenceClassification.from_pretrained(\"bert-base-cased\", num_labels=6)\n",
    "model.load_state_dict(torch.load(f=MODEL_SAVE_PATH))"
   ]
  },
  {
   "cell_type": "markdown",
   "metadata": {},
   "source": [
    "# Explicabilité\n",
    "## méthode 1 "
   ]
  },
  {
   "cell_type": "code",
   "execution_count": null,
   "metadata": {},
   "outputs": [],
   "source": [
    "cls_explainer = SequenceClassificationExplainer(model, tokenizer)\n",
    "cls_explainer(small_eval_dataset[5][\"text\"][0:511])\n",
    "cls_explainer.visualize()"
   ]
  },
  {
   "cell_type": "markdown",
   "metadata": {},
   "source": [
    "## méthode 2"
   ]
  },
  {
   "cell_type": "code",
   "execution_count": null,
   "metadata": {},
   "outputs": [],
   "source": [
    "from torch.nn import Softmax\n",
    "import json"
   ]
  },
  {
   "cell_type": "code",
   "execution_count": null,
   "metadata": {},
   "outputs": [],
   "source": [
    "results = []\n",
    "\n",
    "input_text = test_df2.iloc[0]['text']\n",
    "\n",
    "txt = input_text.split()\n",
    "\n",
    "device = torch.device(\"cuda\" if torch.cuda.is_available() else \"cpu\")\n",
    "model.to(device)\n",
    "\n",
    "for i in range(832, len(txt)):\n",
    "  print(f\"{i}/{len(txt)}\")\n",
    "  #Partie où on remplace le mots du text par un mask et on prédie avec longformer le mot le plus probable\n",
    "  cloned_txt = txt[:]\n",
    "  cloned_txt.pop(i)\n",
    "  new_txt = ' '.join(cloned_txt)\n",
    "\n",
    "  #Partie où on va maintenant regarder la classe prédite et la certitude avec le mot altéré\n",
    "\n",
    "  tokenized_input = tokenizer(new_txt, return_tensors=\"pt\", padding=True, truncation=True).to(device)\n",
    "\n",
    "  with torch.no_grad():\n",
    "      logits = model(**tokenized_input).logits\n",
    "\n",
    "  probabilities = Softmax(dim=1)(logits)\n",
    "  predicted_class = torch.argmax(logits, dim=1).item()\n",
    "  confidence = probabilities[0, predicted_class].item()\n",
    "\n",
    "  #Maitenant on va stocké cette information\n",
    "\n",
    "  results.append({\"predicted_class\": predicted_class, \"confidence\": confidence})\n",
    "\n",
    "  with open(\"results.txt\", 'w') as fichier:\n",
    "      # Écrire la valeur de la variable dans le fichier\n",
    "      fichier.write(json.dumps(results, indent=2))"
   ]
  },
  {
   "cell_type": "code",
   "execution_count": null,
   "metadata": {},
   "outputs": [],
   "source": [
    "with open(\"results.txt\", 'r') as fichier:\n",
    "    donnees_results = json.load(fichier)\n",
    "\n",
    "print(donnees_results)"
   ]
  },
  {
   "cell_type": "code",
   "execution_count": null,
   "metadata": {},
   "outputs": [],
   "source": [
    "import matplotlib.pyplot as plt\n",
    "\n",
    "# Valeur de référence\n",
    "valeur_reference = 0.9772276282310486\n",
    "\n",
    "# Extraire les indices, les confiances et les classes pour les 200 premiers éléments\n",
    "indices = range(len(donnees_results))\n",
    "confiances = [valeur_reference - element['confidence'] for element in donnees_results]\n",
    "classes = [element['predicted_class'] for element in donnees_results]\n",
    "\n",
    "# Créer un graphique à barres\n",
    "fig, ax = plt.subplots(figsize=(10, 5))\n",
    "barres = ax.bar(indices, confiances, color=['red' if classe == 0 else 'blue' for classe in classes])\n",
    "\n",
    "# Ajouter des étiquettes\n",
    "ax.set_xlabel('Indice')\n",
    "ax.set_ylabel('Écart par rapport à la valeur de référence')\n",
    "ax.set_title('Écart par rapport à la valeur de référence')\n",
    "ax.set_ylim(-0.02, 0.02)\n",
    "# Afficher le graphique\n",
    "plt.tight_layout()\n",
    "plt.show()"
   ]
  }
 ],
 "metadata": {
  "language_info": {
   "name": "python"
  }
 },
 "nbformat": 4,
 "nbformat_minor": 2
}
